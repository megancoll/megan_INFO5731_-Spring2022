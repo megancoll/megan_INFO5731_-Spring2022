{
  "cells": [
    {
      "cell_type": "markdown",
      "metadata": {
        "id": "view-in-github",
        "colab_type": "text"
      },
      "source": [
        "<a href=\"https://colab.research.google.com/github/megancoll/megan_INFO5731_-Spring2022/blob/main/In_class_exercise/megan_In_class_exercise_1.ipynb\" target=\"_parent\"><img src=\"https://colab.research.google.com/assets/colab-badge.svg\" alt=\"Open In Colab\"/></a>"
      ]
    },
    {
      "cell_type": "markdown",
      "metadata": {
        "id": "DymRJbxDBCnf"
      },
      "source": [
        "# **The first In-class-exercise (09/07/2022, 40 points in total)**"
      ]
    },
    {
      "cell_type": "markdown",
      "metadata": {
        "id": "03jb4GZsBkBS"
      },
      "source": [
        "(1) Write a Python program to calculate the length of a string. (4 points)"
      ]
    },
    {
      "cell_type": "code",
      "execution_count": 38,
      "metadata": {
        "colab": {
          "base_uri": "https://localhost:8080/"
        },
        "id": "YaGLbSHHB8Ej",
        "outputId": "c55ae7fa-b510-48dc-a2d6-95985b8012f5"
      },
      "outputs": [
        {
          "output_type": "stream",
          "name": "stdout",
          "text": [
            "40\n"
          ]
        }
      ],
      "source": [
        "# write your answer here\n",
        "\n",
        "txt = \"I am studying Computational Linguistics.\"\n",
        "print(len(txt))"
      ]
    },
    {
      "cell_type": "markdown",
      "metadata": {
        "id": "jJDe71iLB616"
      },
      "source": [
        "(2) Write a Python program to count the number of characters in a string. (4 points)\n",
        "\n",
        "Sample String : 'google.com‘, \n",
        "\n",
        "Expected Result : {'o': 3, 'g': 2, '.': 1, 'e': 1, 'l': 1, 'm': 1, 'c': 1}"
      ]
    },
    {
      "cell_type": "code",
      "execution_count": 39,
      "metadata": {
        "colab": {
          "base_uri": "https://localhost:8080/"
        },
        "id": "MtKskTzbCLaU",
        "outputId": "141e2a16-9264-47c9-b6d5-38517c8dbb86"
      },
      "outputs": [
        {
          "output_type": "stream",
          "name": "stdout",
          "text": [
            "{'I': 1, ' ': 4, 'a': 3, 'm': 2, 's': 3, 't': 4, 'u': 3, 'd': 1, 'y': 1, 'i': 5, 'n': 3, 'g': 2, 'C': 1, 'o': 2, 'p': 1, 'l': 1, 'L': 1, 'c': 1, '.': 1}\n"
          ]
        }
      ],
      "source": [
        "# write your answer here\n",
        "\n",
        "char_count = {}\n",
        "\n",
        "for x in txt:\n",
        "  if x in char_count:\n",
        "    char_count[x] += 1\n",
        "  else:\n",
        "    char_count[x] = 1\n",
        "\n",
        "print(char_count)"
      ]
    },
    {
      "cell_type": "code",
      "source": [
        "import operator"
      ],
      "metadata": {
        "id": "Iy-cY8u5Lzzp"
      },
      "execution_count": 40,
      "outputs": []
    },
    {
      "cell_type": "code",
      "source": [
        "sorted_d = dict(sorted(char_count.items(), key=operator.itemgetter(1),reverse=True))\n",
        "print(sorted_d)"
      ],
      "metadata": {
        "colab": {
          "base_uri": "https://localhost:8080/"
        },
        "id": "DTxeyFsJLTSU",
        "outputId": "f621f140-3202-4ed9-9d1e-a7e6001a125a"
      },
      "execution_count": 41,
      "outputs": [
        {
          "output_type": "stream",
          "name": "stdout",
          "text": [
            "{'i': 5, ' ': 4, 't': 4, 'a': 3, 's': 3, 'u': 3, 'n': 3, 'm': 2, 'g': 2, 'o': 2, 'I': 1, 'd': 1, 'y': 1, 'C': 1, 'p': 1, 'l': 1, 'L': 1, 'c': 1, '.': 1}\n"
          ]
        }
      ]
    },
    {
      "cell_type": "markdown",
      "metadata": {
        "id": "55W9AMdXCSpV"
      },
      "source": [
        "(3) Write a Python program to sum all the items in a list. (4 points)"
      ]
    },
    {
      "cell_type": "code",
      "execution_count": 42,
      "metadata": {
        "colab": {
          "base_uri": "https://localhost:8080/"
        },
        "id": "I57NXsauCec2",
        "outputId": "2bad0cc2-99e6-45e8-bc4b-fc459ad6a1ac"
      },
      "outputs": [
        {
          "output_type": "stream",
          "name": "stdout",
          "text": [
            "10\n"
          ]
        }
      ],
      "source": [
        "# write your answer here\n",
        "\n",
        "items = [1, 1, 5, 3]\n",
        "print(sum(items))"
      ]
    },
    {
      "cell_type": "markdown",
      "metadata": {
        "id": "4ulBZ6yhCi9F"
      },
      "source": [
        "(4) Write a Python program to get a string from a given string where all occurrences of its first char have been changed to '\\$', except the first char itself. (4 points)\n",
        "\n",
        "Sample String : 'restart‘, \n",
        "\n",
        "Expected Result : 'resta\\$t'"
      ]
    },
    {
      "cell_type": "code",
      "execution_count": 43,
      "metadata": {
        "colab": {
          "base_uri": "https://localhost:8080/"
        },
        "id": "Fj0XhwbBCw2o",
        "outputId": "37a66571-21c2-49ec-de18-804c081ef111"
      },
      "outputs": [
        {
          "output_type": "stream",
          "name": "stdout",
          "text": [
            "an$cond$\n"
          ]
        }
      ],
      "source": [
        "# write your answer here\n",
        "\n",
        "given = \"anaconda\"\n",
        "new = \"\"\n",
        "\n",
        "for i in range(len(given)):\n",
        "  if i == 0:\n",
        "    first = given[0]\n",
        "    new += first\n",
        "  else:\n",
        "    if given[i] == first:\n",
        "      new += \"$\"\n",
        "    else:\n",
        "      new += given[i]\n",
        "\n",
        "print(new)"
      ]
    },
    {
      "cell_type": "markdown",
      "metadata": {
        "id": "_bIP7s1MCzue"
      },
      "source": [
        "(5) Write a program with python which could accept two parameter a and b to calculate and output the result of S, where \n",
        "\n",
        "$\\ S=3.14*(1+a/b)^3$ (4 points)\n",
        "\n"
      ]
    },
    {
      "cell_type": "code",
      "execution_count": 44,
      "metadata": {
        "colab": {
          "base_uri": "https://localhost:8080/"
        },
        "id": "w79QilHXD3Mg",
        "outputId": "d8d5aa57-c4ce-46bd-f5aa-a080944f40bc"
      },
      "outputs": [
        {
          "output_type": "execute_result",
          "data": {
            "text/plain": [
              "3.14"
            ]
          },
          "metadata": {},
          "execution_count": 44
        }
      ],
      "source": [
        "# write your answer here\n",
        "\n",
        "def solve(a, b):\n",
        "  S = 3.14*(1+(a/b))**3\n",
        "  return S\n",
        "\n",
        "solve(0,1)"
      ]
    },
    {
      "cell_type": "markdown",
      "metadata": {
        "id": "xCa2bK9aD4Q3"
      },
      "source": [
        "(6) Write a Python program to concatenate following dictionaries to create a new one. (4 points)\n",
        "\n",
        "Sample Dictionary : dic1={1:10, 2:20}, dic2={3:30, 4:40}, dic3={5:50,6:60}, \n",
        "\n",
        "Expected Result : {1: 10, 2: 20, 3: 30, 4: 40, 5: 50, 6: 60}\n"
      ]
    },
    {
      "cell_type": "code",
      "execution_count": 45,
      "metadata": {
        "colab": {
          "base_uri": "https://localhost:8080/"
        },
        "id": "_z4aLqAbEET1",
        "outputId": "7bbcc128-5f2e-4a22-da4d-5f0ac8b7490d"
      },
      "outputs": [
        {
          "output_type": "stream",
          "name": "stdout",
          "text": [
            "{1: 10, 4: 40, 2: 20, 5: 50, 3: 30, 6: 60}\n"
          ]
        }
      ],
      "source": [
        "# write your answer here\n",
        "\n",
        "dic1 = {1:10,4:40}\n",
        "dic2 = {2:20,5:50}\n",
        "dic3 = {3:30,6:60}\n",
        "dic4 = dict(list(dic1.items()) + list(dic2.items()) + list(dic3.items()))\n",
        "\n",
        "print(dic4)"
      ]
    },
    {
      "cell_type": "markdown",
      "metadata": {
        "id": "0v48Vqa7FrQh"
      },
      "source": [
        "(7) Write a Python program to check whether an element exists within a tuple. (4 points)"
      ]
    },
    {
      "cell_type": "code",
      "execution_count": 46,
      "metadata": {
        "colab": {
          "base_uri": "https://localhost:8080/"
        },
        "id": "7WEmgq-DF2P1",
        "outputId": "407d32a1-0d3f-4465-aab7-bab47a1363e7"
      },
      "outputs": [
        {
          "output_type": "stream",
          "name": "stdout",
          "text": [
            "True\n",
            "False\n"
          ]
        }
      ],
      "source": [
        "# write your answer here\n",
        "\n",
        "tup = (\"dogs\", \"cats\", 25, 400, \"bird\")\n",
        "print(\"dogs\" in tup)\n",
        "print(\"24\" in tup)"
      ]
    },
    {
      "cell_type": "markdown",
      "metadata": {
        "id": "vD5PYLMuGga_"
      },
      "source": [
        "(8) Write a Python program to find maximum and the minimum value in a set. (4 points)"
      ]
    },
    {
      "cell_type": "code",
      "execution_count": 47,
      "metadata": {
        "colab": {
          "base_uri": "https://localhost:8080/"
        },
        "id": "t0D5kdJUGjjw",
        "outputId": "5b06cf61-cdf8-442d-f5de-aeab8b9c70f3"
      },
      "outputs": [
        {
          "output_type": "stream",
          "name": "stdout",
          "text": [
            "3\n",
            "786\n"
          ]
        }
      ],
      "source": [
        "# write your answer here\n",
        "\n",
        "aSet = {65, 34, 786, 12, 3}\n",
        "mnm = min(aSet)\n",
        "mxm = max(aSet)\n",
        "\n",
        "print(mnm)\n",
        "print(mxm)"
      ]
    },
    {
      "cell_type": "markdown",
      "metadata": {
        "id": "uHkd-y5VhVWC"
      },
      "source": [
        "(9) Write a Python program to randomly divide the students in this class into six groups for term projects, each group should have at least 4 students but no more than 6 students (including 6). Here is the students list: (4 points)\n",
        "\n",
        "studnet_list = ['ja0964','sa1198','sb1357','vb0218','sc1229','kg0569','kg0470','sg1297','bg0320','fh0141','jl1252','sk1386',\n",
        "           'ak0956','sk1390','sk1458','sk1313','ak0934','vm0377','nm0618','sm1640','sm1907','gn0108','pr0353','dr0609','ms1500','aos0040','ds0814', 'av0659','nv0234','hy0232']"
      ]
    },
    {
      "cell_type": "code",
      "execution_count": 48,
      "metadata": {
        "id": "3iGbmcOBhTwy",
        "colab": {
          "base_uri": "https://localhost:8080/"
        },
        "outputId": "e5d9a996-fb14-44c1-a3e9-508322ba0745"
      },
      "outputs": [
        {
          "output_type": "stream",
          "name": "stdout",
          "text": [
            "['ak0956', 'sb1357', 'kg0569', 'vb0218']\n",
            "['sg1297', 'jl1252', 'sm1907', 'dr0609', 'sk1386', 'kg0470']\n",
            "['sa1198', 'sc1229', 'vm0377', 'gn0108', 'ms1500']\n",
            "['nv0234', 'nm0618', 'sk1458', 'bg0320']\n",
            "['aos0040', 'ak0934', 'hy0232', 'ja0964', 'sm1640']\n",
            "['ds0814', 'sk1390', 'pr0353', 'sk1313', 'av0659', 'fh0141']\n"
          ]
        }
      ],
      "source": [
        "# write your answer here\n",
        "\n",
        "import random\n",
        "studnet_list = ['ja0964','sa1198','sb1357','vb0218','sc1229','kg0569','kg0470','sg1297','bg0320','fh0141','jl1252','sk1386', 'ak0956','sk1390','sk1458','sk1313','ak0934','vm0377','nm0618','sm1640','sm1907','gn0108','pr0353','dr0609','ms1500','aos0040','ds0814', 'av0659','nv0234','hy0232']\n",
        "\n",
        "group_sz = [4,4,5,5,6,6]\n",
        "random.shuffle(group_sz)\n",
        "teams = []\n",
        "\n",
        "for l in group_sz:\n",
        "  members = random.sample(studnet_list, l)\n",
        "  studnet_list = list(set(studnet_list) ^ set(members)) #rewriting new studnet_list\n",
        "  teams = teams + [members]\n",
        "\n",
        "for r in teams:\n",
        "  print(r)"
      ]
    },
    {
      "cell_type": "markdown",
      "metadata": {
        "id": "hxRSMAnNPynt"
      },
      "source": [
        "(10) Write a Python program to find the duplicate elements in a given array of integers. Return -1 If there are no such elements. (4 points)"
      ]
    },
    {
      "cell_type": "code",
      "execution_count": 49,
      "metadata": {
        "colab": {
          "base_uri": "https://localhost:8080/"
        },
        "id": "oeAsd5LjPynt",
        "outputId": "d566aec9-2247-4319-d28f-3d98ae41ab80"
      },
      "outputs": [
        {
          "output_type": "stream",
          "name": "stdout",
          "text": [
            "[3, 5324]\n",
            "-1\n"
          ]
        }
      ],
      "source": [
        "# write your answer here\n",
        "\n",
        "\n",
        "def checker(intarray):\n",
        "  d = {}\n",
        "  for n in intarray:\n",
        "    if n in d:\n",
        "      d[n] += 1\n",
        "    else:\n",
        "      d[n] = 1\n",
        "  \n",
        "  if max(d.values()) == 1:\n",
        "    return -1\n",
        "  else:\n",
        "    return [y for y in d.keys() if d[y] > 1]\n",
        "\n",
        "intarray = [1, 3, 5324, 3, 5324]\n",
        "print(checker(intarray))\n",
        "\n",
        "intarray2 = [1, 3, 5324]\n",
        "print(checker(intarray2))"
      ]
    },
    {
      "cell_type": "markdown",
      "metadata": {
        "id": "ZwNqbWemPynt"
      },
      "source": [
        "(11) Write a Python program to select all the Sundays of a specified year. (4 extra points)"
      ]
    },
    {
      "cell_type": "code",
      "execution_count": 50,
      "metadata": {
        "id": "cDD4nb7KPynu"
      },
      "outputs": [],
      "source": [
        "# write your answer here\n",
        "\n",
        "from datetime import date, timedelta"
      ]
    },
    {
      "cell_type": "code",
      "source": [
        "def allSundays(year):\n",
        "  d = date(year, 1, 1)\n",
        "  d += timedelta(days = 6 - d.weekday())\n",
        "  while d.year == year:\n",
        "    yield d\n",
        "    d += timedelta(days=7)\n",
        "\n",
        "\n",
        "for d in allSundays(2023):\n",
        "  print(d)"
      ],
      "metadata": {
        "colab": {
          "base_uri": "https://localhost:8080/"
        },
        "id": "wCAfksSwNIw_",
        "outputId": "ee083139-a69b-4f1a-8b0e-f94dfd11fffa"
      },
      "execution_count": 51,
      "outputs": [
        {
          "output_type": "stream",
          "name": "stdout",
          "text": [
            "2023-01-01\n",
            "2023-01-08\n",
            "2023-01-15\n",
            "2023-01-22\n",
            "2023-01-29\n",
            "2023-02-05\n",
            "2023-02-12\n",
            "2023-02-19\n",
            "2023-02-26\n",
            "2023-03-05\n",
            "2023-03-12\n",
            "2023-03-19\n",
            "2023-03-26\n",
            "2023-04-02\n",
            "2023-04-09\n",
            "2023-04-16\n",
            "2023-04-23\n",
            "2023-04-30\n",
            "2023-05-07\n",
            "2023-05-14\n",
            "2023-05-21\n",
            "2023-05-28\n",
            "2023-06-04\n",
            "2023-06-11\n",
            "2023-06-18\n",
            "2023-06-25\n",
            "2023-07-02\n",
            "2023-07-09\n",
            "2023-07-16\n",
            "2023-07-23\n",
            "2023-07-30\n",
            "2023-08-06\n",
            "2023-08-13\n",
            "2023-08-20\n",
            "2023-08-27\n",
            "2023-09-03\n",
            "2023-09-10\n",
            "2023-09-17\n",
            "2023-09-24\n",
            "2023-10-01\n",
            "2023-10-08\n",
            "2023-10-15\n",
            "2023-10-22\n",
            "2023-10-29\n",
            "2023-11-05\n",
            "2023-11-12\n",
            "2023-11-19\n",
            "2023-11-26\n",
            "2023-12-03\n",
            "2023-12-10\n",
            "2023-12-17\n",
            "2023-12-24\n",
            "2023-12-31\n"
          ]
        }
      ]
    }
  ],
  "metadata": {
    "colab": {
      "collapsed_sections": [],
      "provenance": [],
      "include_colab_link": true
    },
    "kernelspec": {
      "display_name": "Python 3 (ipykernel)",
      "language": "python",
      "name": "python3"
    },
    "language_info": {
      "codemirror_mode": {
        "name": "ipython",
        "version": 3
      },
      "file_extension": ".py",
      "mimetype": "text/x-python",
      "name": "python",
      "nbconvert_exporter": "python",
      "pygments_lexer": "ipython3",
      "version": "3.9.12"
    }
  },
  "nbformat": 4,
  "nbformat_minor": 0
}