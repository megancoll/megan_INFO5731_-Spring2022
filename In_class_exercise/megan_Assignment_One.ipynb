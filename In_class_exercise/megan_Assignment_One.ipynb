{
  "cells": [
    {
      "cell_type": "markdown",
      "metadata": {
        "id": "view-in-github",
        "colab_type": "text"
      },
      "source": [
        "<a href=\"https://colab.research.google.com/github/megancoll/megan_INFO5731_-Spring2022/blob/main/In_class_exercise/megan_Assignment_One.ipynb\" target=\"_parent\"><img src=\"https://colab.research.google.com/assets/colab-badge.svg\" alt=\"Open In Colab\"/></a>"
      ]
    },
    {
      "cell_type": "markdown",
      "metadata": {
        "id": "Ryk8D1Q4Wsrp"
      },
      "source": [
        "# **INFO5731 Assignment One**"
      ]
    },
    {
      "cell_type": "markdown",
      "metadata": {
        "id": "90_NR8c5XGWc"
      },
      "source": [
        "# Question 1\n",
        "\n",
        "(20 points). Write a Python program to generate 12 random numbers between 1 and 100. Sort the list of numbers in ascending order and print it out. Sort the list of numbers in descending order and print it out. Calculate the average for the group and print it out."
      ]
    },
    {
      "cell_type": "code",
      "execution_count": 6,
      "metadata": {
        "colab": {
          "base_uri": "https://localhost:8080/"
        },
        "id": "5QX6bJjGWXY9",
        "outputId": "4af720f3-eee7-4333-996c-d605c8913cf9"
      },
      "outputs": [
        {
          "output_type": "stream",
          "name": "stdout",
          "text": [
            "[3, 16, 18, 29, 36, 49, 50, 66, 94, 94, 97, 98]\n",
            "[98, 97, 94, 94, 66, 50, 49, 36, 29, 18, 16, 3]\n",
            "54.166666666666664\n"
          ]
        }
      ],
      "source": [
        "# Your code here\n",
        "\n",
        "import random\n",
        "\n",
        "glist = []\n",
        "n = 12\n",
        "for i in range(n):\n",
        "  glist.append(random.randint(1,100))\n",
        "\n",
        "# Ascending Numbers printed\n",
        "glist.sort()\n",
        "print(glist)\n",
        "\n",
        "# Descending Numbers printed\n",
        "glist.sort(reverse = True)\n",
        "print(glist)\n",
        "\n",
        "import numpy as np\n",
        "avg = np.average(glist)\n",
        "print(avg)"
      ]
    },
    {
      "cell_type": "markdown",
      "metadata": {
        "id": "1F_PZdH9Sh49"
      },
      "source": [
        "# Question 2\n",
        "(25 points). Write a program that will do the following string formatting tasks:\n",
        "\n",
        "(1) Ask the user to enter two sentences.\n",
        "\n",
        "(2) Make each sentence into a list. Each element in the list should correspond to a word in the sentence. For example, if the sentence is \"Alas! Am I alive? This is my first python program\", the program should print out ['Alas, '!', 'Am', 'I', 'alive, '?', 'This', 'is', 'my', 'first', 'python', 'program'].\n",
        "\n",
        "(3) Compare the two sentences. Print out a list of words that occur in both sentences.\n",
        "\n",
        "(4) Remove any punctuation from the sentence and print it back out. It should remove at least the following characters, but it can remove more: period(“.”), comma (“,”), semicolon (“;”), and colon (“:”)\n",
        "\n",
        "(5) Count the number of vowels in the sentences. Print out each vowel and the number of times it appears in the sentences, such as: a:2, e:1, i:0, etc"
      ]
    },
    {
      "cell_type": "markdown",
      "source": [
        "(1)"
      ],
      "metadata": {
        "id": "eQSeIdg9cEWm"
      }
    },
    {
      "cell_type": "code",
      "execution_count": 22,
      "metadata": {
        "colab": {
          "base_uri": "https://localhost:8080/"
        },
        "id": "Y0oOSlsOS0cq",
        "outputId": "0e1a5201-a655-468e-80a1-0f2d872575cc"
      },
      "outputs": [
        {
          "output_type": "stream",
          "name": "stdout",
          "text": [
            "Please enter a sentence: Alas! Am I alive? This is my first python program\n",
            "Please enter a sentence: Hello World! This is my second sentence entered\n",
            "Alas! Am I alive? This is my first python program\n",
            "Hello World! This is my second sentence entered\n"
          ]
        }
      ],
      "source": [
        "# Your code here\n",
        "\n",
        "input1 = input(\"Please enter a sentence: \")\n",
        "input2 = input(\"Please enter a sentence: \")\n",
        "\n",
        "inputs = input1 + \"\\n\" + input2\n",
        "print(inputs)"
      ]
    },
    {
      "cell_type": "markdown",
      "source": [
        "(2)"
      ],
      "metadata": {
        "id": "VbvVq6SMcIBN"
      }
    },
    {
      "cell_type": "code",
      "source": [
        "import nltk\n",
        "nltk.download('punkt')"
      ],
      "metadata": {
        "colab": {
          "base_uri": "https://localhost:8080/"
        },
        "id": "qF2YbWbldbrD",
        "outputId": "96379a3d-e2c0-4a89-cc6f-da6f2c7a45c0"
      },
      "execution_count": 23,
      "outputs": [
        {
          "output_type": "stream",
          "name": "stderr",
          "text": [
            "[nltk_data] Downloading package punkt to /root/nltk_data...\n",
            "[nltk_data]   Package punkt is already up-to-date!\n"
          ]
        },
        {
          "output_type": "execute_result",
          "data": {
            "text/plain": [
              "True"
            ]
          },
          "metadata": {},
          "execution_count": 23
        }
      ]
    },
    {
      "cell_type": "code",
      "source": [
        "from nltk.tokenize import word_tokenize"
      ],
      "metadata": {
        "id": "3w5Wj4gXnsTS"
      },
      "execution_count": null,
      "outputs": []
    },
    {
      "cell_type": "code",
      "source": [
        "list1 = word_tokenize(input1)\n",
        "list2 = word_tokenize(input2)\n",
        "\n",
        "print(list1)\n",
        "print(list2)"
      ],
      "metadata": {
        "colab": {
          "base_uri": "https://localhost:8080/"
        },
        "id": "ohgwuoLMcJCn",
        "outputId": "85c64423-b55a-45da-8cff-8d9b80638b2e"
      },
      "execution_count": 24,
      "outputs": [
        {
          "output_type": "stream",
          "name": "stdout",
          "text": [
            "['Alas', '!', 'Am', 'I', 'alive', '?', 'This', 'is', 'my', 'first', 'python', 'program']\n",
            "['Hello', 'World', '!', 'This', 'is', 'my', 'second', 'sentence', 'entered']\n"
          ]
        }
      ]
    },
    {
      "cell_type": "markdown",
      "source": [
        "(3)"
      ],
      "metadata": {
        "id": "H1CrvnTWd1Y3"
      }
    },
    {
      "cell_type": "code",
      "source": [
        "list3 = []\n",
        "\n",
        "for l1 in list1:\n",
        "  for l2 in list2:\n",
        "    if (l1 == l2) & (l1.isalpha()):\n",
        "      list3.append(l2)\n",
        "\n",
        "print(list3)"
      ],
      "metadata": {
        "colab": {
          "base_uri": "https://localhost:8080/"
        },
        "id": "vi_U8o5jd7Qn",
        "outputId": "62f0bf13-a580-4686-a8a3-5be03bb49fc1"
      },
      "execution_count": 106,
      "outputs": [
        {
          "output_type": "stream",
          "name": "stdout",
          "text": [
            "['This', 'is', 'my']\n"
          ]
        }
      ]
    },
    {
      "cell_type": "markdown",
      "source": [
        "(4)"
      ],
      "metadata": {
        "id": "fqt_F7UCfzBf"
      }
    },
    {
      "cell_type": "markdown",
      "source": [
        "(4) Remove any punctuation from the sentence and print it back out. It should remove at least the following characters, but it can remove more: period(“.”), comma (“,”), semicolon (“;”), and colon (“:”)"
      ],
      "metadata": {
        "id": "iAdqqhPxf0mo"
      }
    },
    {
      "cell_type": "code",
      "source": [
        "import string"
      ],
      "metadata": {
        "id": "S72rHQjjnur7"
      },
      "execution_count": null,
      "outputs": []
    },
    {
      "cell_type": "code",
      "source": [
        "new_list1 = []\n",
        "new_list2 = []\n",
        "\n",
        "for word in list1:\n",
        "  if word not in string.punctuation:\n",
        "    new_list1.append(word)\n",
        "\n",
        "for word in list2:\n",
        "  if word not in string.punctuation:\n",
        "    new_list2.append(word)\n",
        "\n",
        "print(new_list1)\n",
        "print(new_list2)"
      ],
      "metadata": {
        "colab": {
          "base_uri": "https://localhost:8080/"
        },
        "id": "LX6BIEfkf2yp",
        "outputId": "94bcbf52-e966-4a06-ea32-8db185414ead"
      },
      "execution_count": 27,
      "outputs": [
        {
          "output_type": "stream",
          "name": "stdout",
          "text": [
            "['Alas', 'Am', 'I', 'alive', 'This', 'is', 'my', 'first', 'python', 'program']\n",
            "['Hello', 'World', 'This', 'is', 'my', 'second', 'sentence', 'entered']\n"
          ]
        }
      ]
    },
    {
      "cell_type": "markdown",
      "source": [
        "(5)"
      ],
      "metadata": {
        "id": "0apPDPLti8qO"
      }
    },
    {
      "cell_type": "code",
      "source": [
        "from collections import Counter"
      ],
      "metadata": {
        "id": "D24MNvcRnwgy"
      },
      "execution_count": 29,
      "outputs": []
    },
    {
      "cell_type": "code",
      "source": [
        "vowels = [\"a\",\"e\",\"i\",\"o\",\"u\"]\n",
        "\n",
        "c1 = Counter(input1.lower())\n",
        "vowel_c1 = {}\n",
        "\n",
        "for letter in c1.keys():\n",
        "  if letter in vowels:\n",
        "    vowel_c1[letter] = c1[letter]\n",
        "\n",
        "c2 = Counter(input2.lower())\n",
        "vowel_c2 = {}\n",
        "\n",
        "for letter in c2.keys():\n",
        "  if letter in vowels:\n",
        "    vowel_c2[letter] = c2[letter]\n",
        "\n",
        "print(vowel_c1)\n",
        "print(vowel_c2)"
      ],
      "metadata": {
        "colab": {
          "base_uri": "https://localhost:8080/"
        },
        "id": "1ZHW2F1ti8In",
        "outputId": "3f788320-e041-43a0-8300-9330afec8918"
      },
      "execution_count": 107,
      "outputs": [
        {
          "output_type": "stream",
          "name": "stdout",
          "text": [
            "{'a': 5, 'i': 5, 'e': 1, 'o': 2}\n",
            "{'e': 8, 'o': 3, 'i': 2}\n"
          ]
        }
      ]
    },
    {
      "cell_type": "code",
      "source": [
        "import operator"
      ],
      "metadata": {
        "id": "tPKZJHiipEGw"
      },
      "execution_count": 108,
      "outputs": []
    },
    {
      "cell_type": "code",
      "source": [
        "sorted_d1 = dict(sorted(vowel_c1.items(), key=operator.itemgetter(1),reverse=True))\n",
        "\n",
        "sorted_d2 = dict(sorted(vowel_c2.items(), key=operator.itemgetter(1),reverse=True))\n",
        "\n",
        "print(sorted_d1)\n",
        "print(sorted_d2)"
      ],
      "metadata": {
        "colab": {
          "base_uri": "https://localhost:8080/"
        },
        "id": "8hhbcmnWo-tl",
        "outputId": "a0bf5333-5d97-4ba8-a73d-6faa7ab7cac3"
      },
      "execution_count": 109,
      "outputs": [
        {
          "output_type": "stream",
          "name": "stdout",
          "text": [
            "{'a': 5, 'i': 5, 'o': 2, 'e': 1}\n",
            "{'e': 8, 'o': 3, 'i': 2}\n"
          ]
        }
      ]
    },
    {
      "cell_type": "markdown",
      "metadata": {
        "id": "CmFoI4jDS9nx"
      },
      "source": [
        "# Question 3 \n",
        "\n",
        "(15 points). The formula that describes the volume V of a sphere with radius r is the following:\n",
        "\n",
        "$ V=\\frac{4}{3}\\ast\\ \\pi\\ast\\ r^3 $\n",
        "\n",
        "Write a program to calculate the value of V when r is in the range of 1–10. Output the result in the following format:\n",
        "\n",
        "\tr\tV\n",
        "\t1\t…\n",
        "\t2\t…\n",
        "\t3\t…\n"
      ]
    },
    {
      "cell_type": "code",
      "source": [
        "import math"
      ],
      "metadata": {
        "id": "B7uAYdARqId2"
      },
      "execution_count": 34,
      "outputs": []
    },
    {
      "cell_type": "code",
      "execution_count": 104,
      "metadata": {
        "colab": {
          "base_uri": "https://localhost:8080/"
        },
        "id": "pEyqeioAT95b",
        "outputId": "fe310ab4-ec8b-4f09-b8e9-191d0adb1319"
      },
      "outputs": [
        {
          "output_type": "stream",
          "name": "stdout",
          "text": [
            "r\tV\n",
            "1\t4.1887902047863905\n",
            "2\t33.510321638291124\n",
            "3\t113.09733552923254\n",
            "4\t268.082573106329\n",
            "5\t523.5987755982989\n",
            "6\t904.7786842338603\n",
            "7\t1436.7550402417319\n",
            "8\t2144.660584850632\n",
            "9\t3053.6280592892786\n",
            "10\t4188.790204786391\n"
          ]
        }
      ],
      "source": [
        "# Your code here\n",
        "\n",
        "def solve(r):\n",
        "  V = (4/3) * math.pi * (r**3)\n",
        "  return V\n",
        "\n",
        "print(\"r\" + \"\\t\" + \"V\")\n",
        "\n",
        "\n",
        "for i in range(1,11):\n",
        "  print(str(i) + \"\\t\" + str(solve(i)))"
      ]
    },
    {
      "cell_type": "markdown",
      "metadata": {
        "id": "z3tBE7E-Xn5X"
      },
      "source": [
        "# Question 4\n",
        "\n",
        "(40 points). In the field of Data Science, data is often formatted as a comma-delimited (CSV) file, where each line in a file corresponds to a field's value. Refer to Chapter 9 (p. 106) for more information on comma-delimited files. To answer this question, you will need to download the file [Assignment1_denton_housing.csv](https://raw.githubusercontent.com/unt-iialab/info5731-spring2022/main/assignments/Assignment1_denton_housing.csv) included with this assignment. The file [Assignment1_denton_housing.csv](https://raw.githubusercontent.com/unt-iialab/info5731-spring2022/main/assignments/Assignment1_denton_housing.csv) contains statistics about housing in the city of Denton from 2008 to 2014. Write a program to implement the following questions.\n",
        "\n",
        "(1) (10 pts) Calculate the difference in the number of Occupied Housing Units from year to year and print it. The difference must be calculated for the consecutive years such as 2008-2009, 2009-2010 etc. Finally, print the values in the ascending order.\n",
        "\n",
        "(2) (10 pts) For all the years, calculate the percentage of housing units which are vacant an occupied. Print the results in the following format:\n",
        "\n",
        "Year Vacant Housing Units Occupied Housing Units\n",
        "\n",
        "    2008  30%   70%                          \n",
        "\t2009 ----- -----\n",
        "\t2010 ----- -----\n",
        "    2011 ----- -----\n",
        "\t2012 ----- -----\n",
        "    2013 ----- -----\n",
        "\t2014 ----- -----\n",
        "  \n",
        "  \n",
        "\n",
        "(3) (10 pts) Calculate and print the valued and years in which the highest number of housing units were vacant and occupied. Print the results in the following format:  \n",
        "\n",
        "                              Year\tValue\n",
        "\tVacant Housing Units\t  -----   -----\n",
        "\tOccupied Housing Units\t-----   -----\n",
        "\n",
        "(4) (10 pts) Calculate the harmonic mean of the total housing units and print it out. You can find the information about harmonic mean here: https://ncalculators.com/statistics/harmonic-mean-calculator.htm"
      ]
    },
    {
      "cell_type": "markdown",
      "source": [
        "(1)"
      ],
      "metadata": {
        "id": "MTE5EBAQw1jV"
      }
    },
    {
      "cell_type": "code",
      "execution_count": 46,
      "metadata": {
        "id": "lqGYuHBhcsRH"
      },
      "outputs": [],
      "source": [
        "# Your code here\n",
        "\n",
        "from collections import defaultdict"
      ]
    },
    {
      "cell_type": "code",
      "source": [
        "years_dict = defaultdict(dict)\n",
        "lines = []\n",
        "with open(\"Assignment1_denton_housing.csv\", \"r\") as inf:\n",
        "  for line in inf.readlines()[1:]:\n",
        "    l = line.strip(\"\\n\")\n",
        "    lines.append(l.split(sep=\",\"))\n",
        "\n",
        "for l in lines:\n",
        "  year = l[0]\n",
        "  cat = l[1]\n",
        "  val = l[2]\n",
        "  years_dict[year][cat] = val\n",
        "\n",
        "df = pd.DataFrame.from_dict(years_dict)\n",
        "\n",
        "df = df.T\n",
        "df = df.sort_index()"
      ],
      "metadata": {
        "id": "ko2iVOOU_Tgy"
      },
      "execution_count": 48,
      "outputs": []
    },
    {
      "cell_type": "code",
      "source": [
        "changes_dict = {}\n",
        "\n",
        "for i in range(len(df.index) - 1):\n",
        "  current = df.index[i]\n",
        "  next = df.index[i+1]\n",
        "  span = current + \"-\" + next\n",
        "  current_occupied = df.loc[current, \"Occupied Housing Units\"]\n",
        "  next_occupied = df.loc[next, \"Occupied Housing Units\"]\n",
        "  change = int(next_occupied) - int(current_occupied)\n",
        "  changes_dict[span] = abs(change)\n",
        "\n",
        "for years, change in sorted(changes_dict.items(), key=lambda x: x[1]):\n",
        "  print(years + (\": \") + str(change))"
      ],
      "metadata": {
        "colab": {
          "base_uri": "https://localhost:8080/"
        },
        "id": "IMAZnrsP6E20",
        "outputId": "2a78fcb7-69f9-4012-ef88-ca9018650e77"
      },
      "execution_count": 129,
      "outputs": [
        {
          "output_type": "stream",
          "name": "stdout",
          "text": [
            "2010-2011: 303\n",
            "2008-2009: 795\n",
            "2011-2012: 1404\n",
            "2012-2013: 1565\n",
            "2013-2014: 2622\n",
            "2009-2010: 5091\n"
          ]
        }
      ]
    },
    {
      "cell_type": "markdown",
      "source": [
        "(2)"
      ],
      "metadata": {
        "id": "QtNwNTou8ors"
      }
    },
    {
      "cell_type": "code",
      "source": [
        "print(\"YEAR\" + \"\\t\" + \"Vacant\" + \"\\t\" + \"Occupied\")\n",
        "for year in df.index:\n",
        "  total = int(df.loc[year, \"Total Housing Units\"])\n",
        "  occ = float(df.loc[year, \"Occupied Housing Units\"]) * 100\n",
        "  vac = float(df.loc[year, \"Vacant Housing Units\"]) * 100\n",
        "  print(year + \"\\t\" + str(round(vac/total, 3))+\"%\" + \"\\t\" + str(round(occ/total, 3))+\"%\")"
      ],
      "metadata": {
        "colab": {
          "base_uri": "https://localhost:8080/"
        },
        "id": "40qR1Dkn8pdr",
        "outputId": "682364fe-2c2c-4da8-cbab-cb58a99a4f08"
      },
      "execution_count": 62,
      "outputs": [
        {
          "output_type": "stream",
          "name": "stdout",
          "text": [
            "YEAR\tVacant\tOccupied\n",
            "2008\t10.883%\t89.117%\n",
            "2009\t9.071%\t90.929%\n",
            "2010\t8.143%\t91.857%\n",
            "2011\t9.38%\t90.62%\n",
            "2012\t6.678%\t93.322%\n",
            "2013\t8.802%\t91.198%\n",
            "2014\t5.73%\t94.27%\n"
          ]
        }
      ]
    },
    {
      "cell_type": "markdown",
      "source": [
        "(3)"
      ],
      "metadata": {
        "id": "PZ9GGdfb9hfC"
      }
    },
    {
      "cell_type": "code",
      "source": [
        "max_vac = max(df.loc[:, \"Vacant Housing Units\"])\n",
        "max_vac_year = df[df[\"Vacant Housing Units\"] == max_vac].index[0]\n",
        "\n",
        "max_occ = max(df.loc[:, \"Occupied Housing Units\"])\n",
        "max_occ_year = df[df[\"Occupied Housing Units\"] == max_occ].index[0]\n",
        "\n",
        "print(\"\\t\" + \"\\t\" + \"\\t\", \"Year\" + \" \" + \"Value\")\n",
        "print(\"Vacant Housing Units\" + \"\\t\", max_vac_year, max_vac)\n",
        "print(\"Occupied Housing Units\" + \"\\t\", max_occ_year, max_occ)"
      ],
      "metadata": {
        "colab": {
          "base_uri": "https://localhost:8080/"
        },
        "id": "3rsGE-xY9gMO",
        "outputId": "521f278a-c38b-4565-94b0-3b8ac5ba3c58"
      },
      "execution_count": 99,
      "outputs": [
        {
          "output_type": "stream",
          "name": "stdout",
          "text": [
            "\t\t\t Year Value\n",
            "Vacant Housing Units\t 2008 4483\n",
            "Occupied Housing Units\t 2014 46295\n"
          ]
        }
      ]
    },
    {
      "cell_type": "markdown",
      "source": [
        "(4)"
      ],
      "metadata": {
        "id": "XQT0Fwke-R7L"
      }
    },
    {
      "cell_type": "code",
      "source": [
        "import statistics\n",
        "from pandas._libs.lib import to_object_array_tuples"
      ],
      "metadata": {
        "id": "YHu9zu0d-SiA"
      },
      "execution_count": 101,
      "outputs": []
    },
    {
      "cell_type": "code",
      "source": [
        "totals = list(df.loc[:, \"Total Housing Units\"])\n",
        "totals = [int(n) for n in totals]\n",
        "harm_mean = statistics.harmonic_mean(totals)\n",
        "\n",
        "print(harm_mean)"
      ],
      "metadata": {
        "colab": {
          "base_uri": "https://localhost:8080/"
        },
        "id": "YUtHYNKO-UV6",
        "outputId": "977d758d-0c76-4026-f765-222f0f4cfd5e"
      },
      "execution_count": 102,
      "outputs": [
        {
          "output_type": "stream",
          "name": "stdout",
          "text": [
            "44398.28543969185\n"
          ]
        }
      ]
    }
  ],
  "metadata": {
    "colab": {
      "collapsed_sections": [],
      "provenance": [],
      "include_colab_link": true
    },
    "kernelspec": {
      "display_name": "Python 3 (ipykernel)",
      "language": "python",
      "name": "python3"
    },
    "language_info": {
      "codemirror_mode": {
        "name": "ipython",
        "version": 3
      },
      "file_extension": ".py",
      "mimetype": "text/x-python",
      "name": "python",
      "nbconvert_exporter": "python",
      "pygments_lexer": "ipython3",
      "version": "3.9.12"
    }
  },
  "nbformat": 4,
  "nbformat_minor": 0
}